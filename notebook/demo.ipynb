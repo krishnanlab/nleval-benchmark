{
 "cells": [
  {
   "cell_type": "code",
   "execution_count": null,
   "id": "87888dd6",
   "metadata": {},
   "outputs": [],
   "source": [
    "import logging\n",
    "\n",
    "import nleval\n",
    "import nleval.data\n",
    "from nleval.util.dataset_constructors import default_constructor"
   ]
  },
  {
   "cell_type": "code",
   "execution_count": null,
   "id": "10752d4e",
   "metadata": {},
   "outputs": [],
   "source": [
    "# Global settings\n",
    "root = \"datasets\"  # save datasets under the datasets/ directory\n",
    "data_version = \"nledata-v0.1.0-dev2\"  # data version to use\n",
    "log_level = \"WARNING\""
   ]
  },
  {
   "cell_type": "markdown",
   "id": "37be98f9",
   "metadata": {},
   "source": [
    "## Download and construct dataset"
   ]
  },
  {
   "cell_type": "code",
   "execution_count": null,
   "id": "a4fb7afe",
   "metadata": {},
   "outputs": [],
   "source": [
    "dataset = default_constructor(\n",
    "    root=root,\n",
    "    version=data_version,\n",
    "    graph_name=\"BioGRID\",\n",
    "    label_name=\"DisGeNET\",\n",
    "    use_dense_graph=True,\n",
    "    log_level=log_level,\n",
    ")"
   ]
  },
  {
   "cell_type": "markdown",
   "id": "9fb2ef74",
   "metadata": {},
   "source": [
    "## Set up label propagation model and model trainer"
   ]
  },
  {
   "cell_type": "code",
   "execution_count": null,
   "id": "25d5d457",
   "metadata": {},
   "outputs": [],
   "source": [
    "from nleval.metric import auroc, log2_auprc_prior\n",
    "from nleval.model.label_propagation import OneHopPropagation\n",
    "from nleval.model_trainer import LabelPropagationTrainer\n",
    "\n",
    "metrics = {\"auroc\": auroc, \"log2_auprc_prior\": log2_auprc_prior}\n",
    "\n",
    "lp_mdl = OneHopPropagation()\n",
    "lp_trainer = LabelPropagationTrainer(metrics, log_level=log_level)"
   ]
  },
  {
   "cell_type": "markdown",
   "id": "fce950d4",
   "metadata": {},
   "source": [
    "## Evaluate the mdoel over all tasks"
   ]
  },
  {
   "cell_type": "code",
   "execution_count": null,
   "id": "c34fe300",
   "metadata": {},
   "outputs": [],
   "source": [
    "results = lp_trainer.eval_multi_ovr(lp_mdl, dataset)\n",
    "print(f\"Training AUROC = {results['train_auroc'].mean()}\")\n",
    "print(f\"Testing AUROC = {results['test_auroc'].mean()}\")"
   ]
  }
 ],
 "metadata": {
  "kernelspec": {
   "display_name": "nle",
   "language": "python",
   "name": "nle"
  },
  "language_info": {
   "codemirror_mode": {
    "name": "ipython",
    "version": 3
   },
   "file_extension": ".py",
   "mimetype": "text/x-python",
   "name": "python",
   "nbconvert_exporter": "python",
   "pygments_lexer": "ipython3",
   "version": "3.8.13"
  }
 },
 "nbformat": 4,
 "nbformat_minor": 5
}
